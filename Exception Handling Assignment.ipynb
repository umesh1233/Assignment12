{
 "cells": [
  {
   "cell_type": "code",
   "execution_count": null,
   "id": "fcc46d20-290f-41a0-a128-1cfed1007b39",
   "metadata": {},
   "outputs": [],
   "source": [
    "#Q.1\n",
    "An exception is an event, which occurs during the execution of a \n",
    "program that disrupts the normal flow of the program's instructions.\n",
    "\n",
    "Both exceptions and errors are the subclasses of a throwable class.\n",
    "The error implies a problem that mostly arises due to the shortage of system resources.\n",
    "On the other hand, the exceptions occur during runtime and compile time."
   ]
  },
  {
   "cell_type": "code",
   "execution_count": 1,
   "id": "702b4a9b-6bdc-4de6-af98-78bc275d8730",
   "metadata": {},
   "outputs": [
    {
     "name": "stdout",
     "output_type": "stream",
     "text": [
      "i am trying to handle a zerodivisionerror  division by zero\n"
     ]
    }
   ],
   "source": [
    "#Q.2\n",
    "# If an exception is not handle (with a catch block), the runtime system will abort the program (i.e. crash) and an exception\n",
    " #message will print to the console.\n",
    "try :\n",
    "    10/0\n",
    "except ZeroDivisionError as e :\n",
    "    print(\"i am trying to handle a zerodivisionerror \" ,e)"
   ]
  },
  {
   "cell_type": "code",
   "execution_count": 2,
   "id": "28790515-727d-4e67-b985-e818bbad09d7",
   "metadata": {},
   "outputs": [],
   "source": [
    "#Q.3\n",
    "#The try and except block in Python is used to catch and handle exceptions.\n",
    "try :\n",
    "    f = open(\"test.txt\",'w')\n",
    "    f.write(\"write into my file\")\n",
    "    f.close()\n",
    "except Exception as e:\n",
    "    print(\"this is my exception block\",e)"
   ]
  },
  {
   "cell_type": "code",
   "execution_count": null,
   "id": "055d99bd-8ba4-468f-b6da-f270f1d5e967",
   "metadata": {},
   "outputs": [],
   "source": [
    "#Q.4\n",
    "#The try block lets you test a block of code for errors. The except block lets you handle the error. \n",
    "#The else block lets you execute code when there is no error.\n",
    "try :\n",
    "    f = open(\"test1.txt\",'r')\n",
    "    f.write(\"write into my file\")\n",
    "except Exception as e:\n",
    "    print(\"this is my exception block\",e)\n",
    "else:\n",
    "    f.close()\n",
    "    print(\"this will be executed once your try will executemwithout error\")\n",
    "    \n",
    "# Finally    \n",
    "#The finally block will be executed no matter if the try block raises an error or not.\n",
    "#This can be useful to close objects and clean up resources.\n",
    "try:\n",
    "    f = open(\"test2.txt\" ,'w')\n",
    "    f.write(\"write something\")\n",
    "finally:\n",
    "    print(\"finally will execute itself in any situation\")\n",
    "    \n",
    "# raise\n",
    "#Python raise Keyword is used to raise exceptions or errors.\n",
    "#The raise keyword raises an error and stops the control flow of the program.\n",
    "x = -1\n",
    "\n",
    "# Use of \"raise\"\n",
    "if x < 0:\n",
    "    raise Exception(\"Sorry, no numbers below zero\")"
   ]
  },
  {
   "cell_type": "code",
   "execution_count": 3,
   "id": "abd0a346-e1b2-4854-86d0-60772efe217e",
   "metadata": {},
   "outputs": [
    {
     "name": "stdin",
     "output_type": "stream",
     "text": [
      "Enter a number:  19\n"
     ]
    },
    {
     "name": "stdout",
     "output_type": "stream",
     "text": [
      "Eligible to Vote\n"
     ]
    }
   ],
   "source": [
    "#Q.5\n",
    "#In Python, we can define custom exceptions by creating a new class that is derived from the built-in Exception class.\n",
    "#Need\n",
    "# using custom exceptions can help us improve this even more, especially when we are designing our package.\n",
    "class InvalidAgeException(Exception):\n",
    "    \"Raised when the input value is less than 18\"\n",
    "    pass\n",
    "\n",
    "number = 18\n",
    "\n",
    "try:\n",
    "    input_num = int(input(\"Enter a number: \"))\n",
    "    if input_num < number:\n",
    "        raise InvalidAgeException\n",
    "    else:\n",
    "        print(\"Eligible to Vote\")\n",
    "        \n",
    "except InvalidAgeException:\n",
    "    print(\"Exception occurred: Invalid Age\")\n"
   ]
  },
  {
   "cell_type": "code",
   "execution_count": null,
   "id": "54784383-32ed-4d3f-906b-d9af4ea1d1cb",
   "metadata": {},
   "outputs": [],
   "source": [
    "#Q.6"
   ]
  }
 ],
 "metadata": {
  "kernelspec": {
   "display_name": "Python 3 (ipykernel)",
   "language": "python",
   "name": "python3"
  },
  "language_info": {
   "codemirror_mode": {
    "name": "ipython",
    "version": 3
   },
   "file_extension": ".py",
   "mimetype": "text/x-python",
   "name": "python",
   "nbconvert_exporter": "python",
   "pygments_lexer": "ipython3",
   "version": "3.10.8"
  }
 },
 "nbformat": 4,
 "nbformat_minor": 5
}
